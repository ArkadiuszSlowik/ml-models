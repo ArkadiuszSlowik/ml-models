{
 "cells": [
  {
   "cell_type": "code",
   "execution_count": 78,
   "metadata": {},
   "outputs": [],
   "source": [
    "import pandas as pd\n",
    "import numpy as np\n",
    "import random\n",
    "from sklearn.metrics import mean_squared_error\n",
    "from sklearn.linear_model import LinearRegression, SGDRegressor\n",
    "import matplotlib.pyplot as plt\n",
    "from sklearn.pipeline import Pipeline\n",
    "from sklearn.preprocessing import StandardScaler\n",
    "\n",
    "%run my_models.ipynb"
   ]
  },
  {
   "cell_type": "code",
   "execution_count": 79,
   "metadata": {},
   "outputs": [
    {
     "data": {
      "text/plain": [
       "((700, 2), (300, 2))"
      ]
     },
     "execution_count": 79,
     "metadata": {},
     "output_type": "execute_result"
    }
   ],
   "source": [
    "df_train = pd.read_csv('data/train.csv')\n",
    "df_test = pd.read_csv('data/test.csv')\n",
    "df_train.shape, df_test.shape"
   ]
  },
  {
   "cell_type": "code",
   "execution_count": 80,
   "metadata": {},
   "outputs": [
    {
     "name": "stdout",
     "output_type": "stream",
     "text": [
      "<class 'pandas.core.frame.DataFrame'>\n",
      "RangeIndex: 700 entries, 0 to 699\n",
      "Data columns (total 2 columns):\n",
      "x    700 non-null float64\n",
      "y    699 non-null float64\n",
      "dtypes: float64(2)\n",
      "memory usage: 11.0 KB\n",
      "<class 'pandas.core.frame.DataFrame'>\n",
      "RangeIndex: 300 entries, 0 to 299\n",
      "Data columns (total 2 columns):\n",
      "x    300 non-null int64\n",
      "y    300 non-null float64\n",
      "dtypes: float64(1), int64(1)\n",
      "memory usage: 4.8 KB\n"
     ]
    },
    {
     "data": {
      "text/plain": [
       "(None, None)"
      ]
     },
     "execution_count": 80,
     "metadata": {},
     "output_type": "execute_result"
    }
   ],
   "source": [
    "df_train.info(), df_test.info()"
   ]
  },
  {
   "cell_type": "markdown",
   "metadata": {},
   "source": [
    "Only 1 row for 700 instances has nan, so we can easily drop it."
   ]
  },
  {
   "cell_type": "code",
   "execution_count": 81,
   "metadata": {},
   "outputs": [],
   "source": [
    "df_train = df_train.dropna()"
   ]
  },
  {
   "cell_type": "code",
   "execution_count": 82,
   "metadata": {},
   "outputs": [],
   "source": [
    "X = df_train['x'].to_numpy()\n",
    "y = df_train['y'].to_numpy().ravel()\n",
    "X_test = df_test['x'].to_numpy()\n",
    "y_test = df_test['y'].to_numpy()"
   ]
  },
  {
   "cell_type": "markdown",
   "metadata": {},
   "source": [
    "<h2> With standarization <h2>"
   ]
  },
  {
   "cell_type": "code",
   "execution_count": 83,
   "metadata": {},
   "outputs": [],
   "source": [
    "std_pipeline = Pipeline([\n",
    "    ('std_scaler', StandardScaler()),\n",
    "    ])"
   ]
  },
  {
   "cell_type": "code",
   "execution_count": 84,
   "metadata": {},
   "outputs": [],
   "source": [
    "X = std_pipeline.fit_transform(X.reshape(-1, 1))\n",
    "X_test = std_pipeline.transform(X_test.reshape(-1, 1))"
   ]
  },
  {
   "cell_type": "markdown",
   "metadata": {},
   "source": [
    "<h2> Normal Equation </h2>"
   ]
  },
  {
   "cell_type": "code",
   "execution_count": 85,
   "metadata": {},
   "outputs": [
    {
     "data": {
      "text/plain": [
       "9.432922192039326"
      ]
     },
     "execution_count": 85,
     "metadata": {},
     "output_type": "execute_result"
    }
   ],
   "source": [
    "y_pred, mse = linear_regression_NE(X, y, X_test, y_pred)\n",
    "mse"
   ]
  },
  {
   "cell_type": "markdown",
   "metadata": {},
   "source": [
    "<h2> SVD </h2>"
   ]
  },
  {
   "cell_type": "code",
   "execution_count": 86,
   "metadata": {},
   "outputs": [
    {
     "data": {
      "text/plain": [
       "9.432922192039317"
      ]
     },
     "execution_count": 86,
     "metadata": {},
     "output_type": "execute_result"
    }
   ],
   "source": [
    "# https://github.com/scikit-learn/scikit-learn/blob/36958fb24/sklearn/linear_model/_base.py#L529\n",
    "lin_reg = LinearRegression()\n",
    "lin_reg.fit(X.reshape(-1, 1), y)\n",
    "y_pred = lin_reg.predict(X_test.reshape(-1, 1))\n",
    "mean_squared_error(y_test, y_pred)"
   ]
  },
  {
   "cell_type": "markdown",
   "metadata": {},
   "source": [
    "<h3> Implementation </h3>"
   ]
  },
  {
   "cell_type": "code",
   "execution_count": 87,
   "metadata": {},
   "outputs": [
    {
     "data": {
      "text/plain": [
       "9.432922192039321"
      ]
     },
     "execution_count": 87,
     "metadata": {},
     "output_type": "execute_result"
    }
   ],
   "source": [
    "y_pred, mse = linear_regression_SVD(X, y, X_test, y_pred)\n",
    "mse"
   ]
  },
  {
   "cell_type": "markdown",
   "metadata": {},
   "source": [
    "<h2> Batch Gradient Descent </h2>"
   ]
  },
  {
   "cell_type": "code",
   "execution_count": 88,
   "metadata": {},
   "outputs": [
    {
     "name": "stdout",
     "output_type": "stream",
     "text": [
      "theta:  [0.99879738 0.57905666]\n",
      "theta:  [17.2664195  10.01027374]\n",
      "theta:  [28.12681371 16.30662944]\n",
      "theta:  [35.37729945 20.5101267 ]\n",
      "theta:  [40.21778154 23.31641498]\n",
      "theta:  [43.44932597 25.18991541]\n",
      "theta:  [45.60673079 26.44067923]\n",
      "theta:  [47.04703144 27.27569913]\n",
      "theta:  [48.00858764 27.83316507]\n",
      "theta:  [48.65053023 28.20533378]\n",
      "theta:  [49.07909621 28.45379657]\n",
      "theta:  [49.36521028 28.61967231]\n",
      "theta:  [49.55622232 28.73041228]\n",
      "theta:  [49.68374347 28.80434317]\n",
      "theta:  [49.76887761 28.85370001]\n",
      "theta:  [49.82571384 28.88665104]\n",
      "theta:  [49.86365816 28.90864941]\n",
      "theta:  [49.88899009 28.92333569]\n",
      "theta:  [49.90590189 28.93314037]\n",
      "theta:  [49.91719235 28.93968606]\n",
      "theta:  [49.92472994 28.94405601]\n",
      "theta:  [49.9297621  28.94697342]\n",
      "theta:  [49.93312161 28.94892111]\n",
      "theta:  [49.93536445 28.9502214 ]\n"
     ]
    },
    {
     "data": {
      "text/plain": [
       "9.437686534021807"
      ]
     },
     "execution_count": 88,
     "metadata": {},
     "output_type": "execute_result"
    }
   ],
   "source": [
    "theta, theta_path_BGD, y_pred, mse = linear_regression_BGD(X, y, X_test, y_pred, [0,0])\n",
    "mse"
   ]
  },
  {
   "cell_type": "markdown",
   "metadata": {},
   "source": [
    "<h2> Stochastic Gradient Descent </h2>"
   ]
  },
  {
   "cell_type": "code",
   "execution_count": 89,
   "metadata": {},
   "outputs": [
    {
     "data": {
      "text/plain": [
       "9.44185964354061"
      ]
     },
     "execution_count": 89,
     "metadata": {},
     "output_type": "execute_result"
    }
   ],
   "source": [
    "# https://github.com/scikit-learn/scikit-learn/blob/36958fb24/sklearn/linear_model/_stochastic_gradient.py#L1694\n",
    "lin_reg = SGDRegressor()\n",
    "lin_reg.fit(X.reshape(-1, 1), y)\n",
    "y_pred = lin_reg.predict(X_test.reshape(-1, 1))\n",
    "mean_squared_error(y_test, y_pred)"
   ]
  },
  {
   "cell_type": "markdown",
   "metadata": {},
   "source": [
    "<h3> Implementation </h3>"
   ]
  },
  {
   "cell_type": "code",
   "execution_count": 90,
   "metadata": {},
   "outputs": [
    {
     "name": "stdout",
     "output_type": "stream",
     "text": [
      "theta:  [0.99879738 0.57905666]\n",
      "theta:  [17.2664195  10.01027374]\n",
      "theta:  [28.12681371 16.30662944]\n",
      "theta:  [35.37729945 20.5101267 ]\n",
      "theta:  [40.21778154 23.31641498]\n",
      "theta:  [43.44932597 25.18991541]\n",
      "theta:  [45.60673079 26.44067923]\n",
      "theta:  [47.04703144 27.27569913]\n",
      "theta:  [48.00858764 27.83316507]\n",
      "theta:  [48.65053023 28.20533378]\n",
      "theta:  [49.07909621 28.45379657]\n",
      "theta:  [49.36521028 28.61967231]\n",
      "theta:  [49.55622232 28.73041228]\n",
      "theta:  [49.68374347 28.80434317]\n",
      "theta:  [49.76887761 28.85370001]\n",
      "theta:  [49.82571384 28.88665104]\n",
      "theta:  [49.86365816 28.90864941]\n",
      "theta:  [49.88899009 28.92333569]\n",
      "theta:  [49.90590189 28.93314037]\n",
      "theta:  [49.91719235 28.93968606]\n",
      "theta:  [49.92472994 28.94405601]\n",
      "theta:  [49.9297621  28.94697342]\n",
      "theta:  [49.93312161 28.94892111]\n",
      "theta:  [49.93536445 28.9502214 ]\n"
     ]
    },
    {
     "data": {
      "text/plain": [
       "9.437686534021807"
      ]
     },
     "execution_count": 90,
     "metadata": {},
     "output_type": "execute_result"
    }
   ],
   "source": [
    "theta, theta_path_SGD, y_pred, mse = linear_regression_BGD(X, y, X_test, y_pred, [0,0])\n",
    "mse"
   ]
  },
  {
   "cell_type": "markdown",
   "metadata": {},
   "source": [
    "<h2> Mini-batch Gradient Descent </h2>"
   ]
  },
  {
   "cell_type": "code",
   "execution_count": 91,
   "metadata": {},
   "outputs": [
    {
     "name": "stdout",
     "output_type": "stream",
     "text": [
      "theta:  [9.45521541 5.03608596]\n",
      "theta:  [49.96659284 28.86624027]\n",
      "theta:  [49.89880197 28.97338698]\n"
     ]
    },
    {
     "data": {
      "text/plain": [
       "9.39862081285147"
      ]
     },
     "execution_count": 91,
     "metadata": {},
     "output_type": "execute_result"
    }
   ],
   "source": [
    "theta, theta_path_MbGD, y_pred, mse = linear_regression_MbGD(X, y, X_test, y_pred, [0,0], batch_size = int(0.1 * X.shape[0]), message_frequency=10000)\n",
    "mse"
   ]
  },
  {
   "cell_type": "code",
   "execution_count": 92,
   "metadata": {},
   "outputs": [
    {
     "data": {
      "image/png": "[encoded data removed]",
      "text/plain": [
       "<Figure size 504x288 with 1 Axes>"
      ]
     },
     "metadata": {
      "needs_background": "light"
     },
     "output_type": "display_data"
    }
   ],
   "source": [
    "linear_regression_compare_paths([theta_path_BGD, theta_path_SGD, theta_path_MbGD], ['Batch', 'Stochastic', 'Mini-batch'])"
   ]
  },
  {
   "cell_type": "markdown",
   "metadata": {},
   "source": [
    "<h2> Without standarization </h2>"
   ]
  },
  {
   "cell_type": "markdown",
   "metadata": {},
   "source": [
    "..."
   ]
  },
  {
   "cell_type": "code",
   "execution_count": null,
   "metadata": {},
   "outputs": [],
   "source": []
  }
 ],
 "metadata": {
  "kernelspec": {
   "display_name": "Python 3",
   "language": "python",
   "name": "python3"
  },
  "language_info": {
   "codemirror_mode": {
    "name": "ipython",
    "version": 3
   },
   "file_extension": ".py",
   "mimetype": "text/x-python",
   "name": "python",
   "nbconvert_exporter": "python",
   "pygments_lexer": "ipython3",
   "version": "3.7.3"
  }
 },
 "nbformat": 4,
 "nbformat_minor": 2
}
